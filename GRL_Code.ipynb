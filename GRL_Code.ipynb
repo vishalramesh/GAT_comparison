{
  "nbformat": 4,
  "nbformat_minor": 0,
  "metadata": {
    "colab": {
      "provenance": [],
      "toc_visible": true
    },
    "kernelspec": {
      "name": "python3",
      "display_name": "Python 3"
    },
    "language_info": {
      "name": "python"
    },
    "gpuClass": "standard",
    "accelerator": "GPU"
  },
  "cells": [
    {
      "cell_type": "markdown",
      "source": [
        "# Graph Attention Networks"
      ],
      "metadata": {
        "id": "LG2XVPBCbC44"
      }
    },
    {
      "cell_type": "markdown",
      "source": [
        "### Part 0: Set up dependencies"
      ],
      "metadata": {
        "id": "OTIxlx1mal5g"
      }
    },
    {
      "cell_type": "code",
      "source": [
        "# Check PyTorch version installed on this system\n",
        "!python -c \"import torch; print(torch.__version__)\""
      ],
      "metadata": {
        "colab": {
          "base_uri": "https://localhost:8080/"
        },
        "id": "gmKqBTV9bFJi",
        "outputId": "e84df08b-1575-4e15-b749-e174b608b3c6"
      },
      "execution_count": 1,
      "outputs": [
        {
          "output_type": "stream",
          "name": "stdout",
          "text": [
            "1.13.0+cu116\n"
          ]
        }
      ]
    },
    {
      "cell_type": "code",
      "source": [
        "# Download the corresponding PyTorch Geometric module\n",
        "\"\"\"\n",
        "Assign to TORCH with what you get from the cell above, E.g., export TORCH=1.13.1+cu113\n",
        "\"\"\"\n",
        "%env TORCH=1.13.0+cu116\n",
        "!pip install torch-scatter -f https://data.pyg.org/whl/torch-${TORCH}.html\n",
        "!pip install torch-sparse -f https://data.pyg.org/whl/torch-${TORCH}.html\n",
        "!pip install torch-geometric"
      ],
      "metadata": {
        "colab": {
          "base_uri": "https://localhost:8080/",
          "height": 981
        },
        "id": "NuNoV7PPbHy2",
        "outputId": "f6e428e6-2899-4ae4-9ca4-9e69448dd0ed"
      },
      "execution_count": 2,
      "outputs": [
        {
          "output_type": "stream",
          "name": "stdout",
          "text": [
            "env: TORCH=1.13.0+cu116\n",
            "Looking in indexes: https://pypi.org/simple, https://us-python.pkg.dev/colab-wheels/public/simple/\n",
            "Looking in links: https://data.pyg.org/whl/torch-1.13.0+cu116.html\n",
            "Collecting torch-scatter\n",
            "  Downloading https://data.pyg.org/whl/torch-1.13.0%2Bcu116/torch_scatter-2.1.0%2Bpt113cu116-cp38-cp38-linux_x86_64.whl (9.4 MB)\n",
            "\u001b[K     |████████████████████████████████| 9.4 MB 8.2 MB/s \n",
            "\u001b[?25hInstalling collected packages: torch-scatter\n",
            "Successfully installed torch-scatter-2.1.0+pt113cu116\n",
            "Looking in indexes: https://pypi.org/simple, https://us-python.pkg.dev/colab-wheels/public/simple/\n",
            "Looking in links: https://data.pyg.org/whl/torch-1.13.0+cu116.html\n",
            "Collecting torch-sparse\n",
            "  Downloading https://data.pyg.org/whl/torch-1.13.0%2Bcu116/torch_sparse-0.6.16%2Bpt113cu116-cp38-cp38-linux_x86_64.whl (4.5 MB)\n",
            "\u001b[K     |████████████████████████████████| 4.5 MB 6.7 MB/s \n",
            "\u001b[?25hRequirement already satisfied: scipy in /usr/local/lib/python3.8/dist-packages (from torch-sparse) (1.7.3)\n",
            "Requirement already satisfied: numpy<1.23.0,>=1.16.5 in /usr/local/lib/python3.8/dist-packages (from scipy->torch-sparse) (1.21.6)\n",
            "Installing collected packages: torch-sparse\n",
            "Successfully installed torch-sparse-0.6.16+pt113cu116\n",
            "Looking in indexes: https://pypi.org/simple, https://us-python.pkg.dev/colab-wheels/public/simple/\n",
            "Collecting torch-geometric\n",
            "  Downloading torch_geometric-2.2.0.tar.gz (564 kB)\n",
            "\u001b[K     |████████████████████████████████| 564 kB 6.9 MB/s \n",
            "\u001b[?25hRequirement already satisfied: tqdm in /usr/local/lib/python3.8/dist-packages (from torch-geometric) (4.64.1)\n",
            "Requirement already satisfied: numpy in /usr/local/lib/python3.8/dist-packages (from torch-geometric) (1.21.6)\n",
            "Requirement already satisfied: scipy in /usr/local/lib/python3.8/dist-packages (from torch-geometric) (1.7.3)\n",
            "Requirement already satisfied: jinja2 in /usr/local/lib/python3.8/dist-packages (from torch-geometric) (2.11.3)\n",
            "Requirement already satisfied: requests in /usr/local/lib/python3.8/dist-packages (from torch-geometric) (2.23.0)\n",
            "Requirement already satisfied: pyparsing in /usr/local/lib/python3.8/dist-packages (from torch-geometric) (3.0.9)\n",
            "Requirement already satisfied: scikit-learn in /usr/local/lib/python3.8/dist-packages (from torch-geometric) (1.0.2)\n",
            "Collecting psutil>=5.8.0\n",
            "  Downloading psutil-5.9.4-cp36-abi3-manylinux_2_12_x86_64.manylinux2010_x86_64.manylinux_2_17_x86_64.manylinux2014_x86_64.whl (280 kB)\n",
            "\u001b[K     |████████████████████████████████| 280 kB 67.2 MB/s \n",
            "\u001b[?25hRequirement already satisfied: MarkupSafe>=0.23 in /usr/local/lib/python3.8/dist-packages (from jinja2->torch-geometric) (2.0.1)\n",
            "Requirement already satisfied: certifi>=2017.4.17 in /usr/local/lib/python3.8/dist-packages (from requests->torch-geometric) (2022.12.7)\n",
            "Requirement already satisfied: chardet<4,>=3.0.2 in /usr/local/lib/python3.8/dist-packages (from requests->torch-geometric) (3.0.4)\n",
            "Requirement already satisfied: idna<3,>=2.5 in /usr/local/lib/python3.8/dist-packages (from requests->torch-geometric) (2.10)\n",
            "Requirement already satisfied: urllib3!=1.25.0,!=1.25.1,<1.26,>=1.21.1 in /usr/local/lib/python3.8/dist-packages (from requests->torch-geometric) (1.24.3)\n",
            "Requirement already satisfied: threadpoolctl>=2.0.0 in /usr/local/lib/python3.8/dist-packages (from scikit-learn->torch-geometric) (3.1.0)\n",
            "Requirement already satisfied: joblib>=0.11 in /usr/local/lib/python3.8/dist-packages (from scikit-learn->torch-geometric) (1.2.0)\n",
            "Building wheels for collected packages: torch-geometric\n",
            "  Building wheel for torch-geometric (setup.py) ... \u001b[?25l\u001b[?25hdone\n",
            "  Created wheel for torch-geometric: filename=torch_geometric-2.2.0-py3-none-any.whl size=773302 sha256=0db035b72d82d28ff83f0a87f835490568b95fd8b80d30ab3142f436b0d23ff6\n",
            "  Stored in directory: /root/.cache/pip/wheels/59/a3/20/198928106d3169865ae73afcbd3d3d1796cf6b429b55c65378\n",
            "Successfully built torch-geometric\n",
            "Installing collected packages: psutil, torch-geometric\n",
            "  Attempting uninstall: psutil\n",
            "    Found existing installation: psutil 5.4.8\n",
            "    Uninstalling psutil-5.4.8:\n",
            "      Successfully uninstalled psutil-5.4.8\n",
            "Successfully installed psutil-5.9.4 torch-geometric-2.2.0\n"
          ]
        },
        {
          "output_type": "display_data",
          "data": {
            "application/vnd.colab-display-data+json": {
              "pip_warning": {
                "packages": [
                  "psutil"
                ]
              }
            }
          },
          "metadata": {}
        }
      ]
    },
    {
      "cell_type": "markdown",
      "source": [
        "### Part 1. Oversmoothing"
      ],
      "metadata": {
        "id": "PF70ZG17bqhN"
      }
    },
    {
      "cell_type": "markdown",
      "source": [
        "### A. Model Implementation and Training"
      ],
      "metadata": {
        "id": "AzXp9cSegLbq"
      }
    },
    {
      "cell_type": "markdown",
      "source": [
        "#### Import required packages"
      ],
      "metadata": {
        "id": "o11iM7vEbUV-"
      }
    },
    {
      "cell_type": "code",
      "source": [
        "import torch\n",
        "import os\n",
        "import typing\n",
        "import torch_geometric\n",
        "\n",
        "import torch.nn as nn\n",
        "import torch.nn.functional as F\n",
        "import torch_geometric.datasets as datasets\n",
        "\n",
        "from torch_geometric.nn import GATConv, GATv2Conv, JumpingKnowledge\n",
        "from torch_geometric.utils import dropout_edge"
      ],
      "metadata": {
        "id": "lA9LztbHajRp"
      },
      "execution_count": 3,
      "outputs": []
    },
    {
      "cell_type": "markdown",
      "source": [
        "#### Load Cora dataset"
      ],
      "metadata": {
        "id": "VKQoe1habcXb"
      }
    },
    {
      "cell_type": "code",
      "source": [
        "dataset = datasets.Planetoid(\n",
        "    root=\"./\",\n",
        "    name='Cora',\n",
        "    split=\"public\",\n",
        "    transform=torch_geometric.transforms.GCNNorm()\n",
        "  )"
      ],
      "metadata": {
        "id": "TY9Vdb-laLF2",
        "colab": {
          "base_uri": "https://localhost:8080/"
        },
        "outputId": "7a530e36-806e-4c31-e238-8fa1fabbb602"
      },
      "execution_count": 4,
      "outputs": [
        {
          "output_type": "stream",
          "name": "stderr",
          "text": [
            "Downloading https://github.com/kimiyoung/planetoid/raw/master/data/ind.cora.x\n",
            "Downloading https://github.com/kimiyoung/planetoid/raw/master/data/ind.cora.tx\n",
            "Downloading https://github.com/kimiyoung/planetoid/raw/master/data/ind.cora.allx\n",
            "Downloading https://github.com/kimiyoung/planetoid/raw/master/data/ind.cora.y\n",
            "Downloading https://github.com/kimiyoung/planetoid/raw/master/data/ind.cora.ty\n",
            "Downloading https://github.com/kimiyoung/planetoid/raw/master/data/ind.cora.ally\n",
            "Downloading https://github.com/kimiyoung/planetoid/raw/master/data/ind.cora.graph\n",
            "Downloading https://github.com/kimiyoung/planetoid/raw/master/data/ind.cora.test.index\n",
            "Processing...\n",
            "Done!\n"
          ]
        }
      ]
    },
    {
      "cell_type": "markdown",
      "source": [
        "#### Model"
      ],
      "metadata": {
        "id": "ehoANrCIb5ZT"
      }
    },
    {
      "cell_type": "code",
      "source": [
        "class GAT(nn.Module):\n",
        "  def __init__(\n",
        "      self,\n",
        "      input_dim: int,\n",
        "      hid_dim: int,\n",
        "      n_classes: int,\n",
        "      n_layers: int,\n",
        "      dropout_ratio: float = 0):\n",
        "    super(GAT, self).__init__()\n",
        "    \"\"\"\n",
        "    Args:\n",
        "      input_dim: input feature dimension\n",
        "      hid_dim: hidden feature dimension\n",
        "      n_classes: number of target classes\n",
        "      n_layers: number of layers\n",
        "      dropout_ratio: dropout_ratio\n",
        "    \"\"\"\n",
        "\n",
        "    self.dropout_ratio = dropout_ratio\n",
        "\n",
        "    self.layers = nn.ModuleList()\n",
        "\n",
        "    self.gatlast = GATConv(hid_dim, n_classes, dropout=dropout_ratio, concat=False, heads=1)\n",
        "\n",
        "    # GCN\n",
        "    if (n_layers > 1):\n",
        "      self.layers.append(GATConv(input_dim, hid_dim, dropout=dropout_ratio, concat=False, heads=1))\n",
        "      for i in range(n_layers - 2):\n",
        "        self.layers.append(GATConv(hid_dim, hid_dim, dropout=dropout_ratio, concat=False, heads=1))\n",
        "\n",
        "    # elif (n_layers == 1):\n",
        "    #   self.layers.append(GATConv(input_dim, n_classes, dropout=0.6, concat=False, heads=8))\n",
        "\n",
        "  def forward(self, X, A) -> torch.Tensor:\n",
        "    for gcn_layer in self.layers:\n",
        "      X =  F.elu(gcn_layer(X, A))\n",
        "    \n",
        "    X = self.gatlast(X, A)\n",
        "\n",
        "    logits = F.softmax(X, dim=1)\n",
        "    return logits    \n",
        "\n",
        "  def generate_node_embeddings(self, X, A) -> torch.Tensor:\n",
        "    for gcn_layer in self.layers:\n",
        "      X = F.elu(gcn_layer(X, A))\n",
        "\n",
        "    X = F.elu(self.gatlast(X, A))\n",
        "    return X\n",
        "  \n",
        "  def param_init(self):\n",
        "    pass"
      ],
      "metadata": {
        "id": "bdqMUVMGb7yA"
      },
      "execution_count": 30,
      "outputs": []
    },
    {
      "cell_type": "markdown",
      "source": [
        "#### Training"
      ],
      "metadata": {
        "id": "cH0Se42Nb9hr"
      }
    },
    {
      "cell_type": "code",
      "source": [
        "def train_step(model, data, adj_matrix, loss_fn, optimizer):\n",
        "  \n",
        "  model.train()\n",
        "\n",
        "  pred = model(data.x, adj_matrix)[data.train_mask]\n",
        "  loss = loss_fn(pred, data.y[data.train_mask])\n",
        "\n",
        "  optimizer.zero_grad()\n",
        "  loss.backward()\n",
        "  optimizer.step()\n",
        "\n",
        "  val_accuracy = evaluate(model, data, data.val_mask)\n",
        "  \n",
        "  return loss, val_accuracy"
      ],
      "metadata": {
        "id": "qR88HcI6dAUD"
      },
      "execution_count": 6,
      "outputs": []
    },
    {
      "cell_type": "code",
      "source": [
        "def train(\n",
        "    params: typing.Dict\n",
        ") -> torch.nn.Module:\n",
        "  \"\"\"\n",
        "    This function trains a node classification model and returns the trained model object.\n",
        "  \"\"\"\n",
        "  # set device\n",
        "  device = \"cuda\" if torch.cuda.is_available() else \"cpu\"\n",
        "\n",
        "  # load dataset\n",
        "  data = dataset.data\n",
        "  data = data.to(device)\n",
        "\n",
        "  # Update parameters\n",
        "  params[\"n_classes\"] = dataset.num_classes # number of target classes\n",
        "  params[\"input_dim\"] = dataset.num_features # size of input features\n",
        "\n",
        "  # Set a model\n",
        "  if params['model_name'] == 'GAT':\n",
        "      model = GAT(\n",
        "        params[\"input_dim\"], \n",
        "        params[\"hid_dim\"],\n",
        "        params[\"n_classes\"],\n",
        "        params[\"n_layers\"],\n",
        "        params[\"dropout\"]\n",
        "        ).to(device)\n",
        "  else:\n",
        "      raise NotImplementedError\n",
        "  model.param_init()\n",
        "\n",
        "  adj_matrix = data.edge_index\n",
        "  if (params[\"dropedge\"]):\n",
        "    adj_matrix, mask = dropout_edge(data.edge_index, p=params[\"dropedge_rate\"])\n",
        "  \n",
        "\n",
        "  loss_fn = nn.CrossEntropyLoss()\n",
        "  optimizer = torch.optim.Adam(model.parameters(), lr=params[\"lr\"])\n",
        "\n",
        "  train_losses = []\n",
        "  val_accuracies = []\n",
        "\n",
        "  # training loop\n",
        "  \n",
        "  prev_acc = 100\n",
        "  cnt = 0\n",
        "\n",
        "  for step in range(params[\"epochs\"]):\n",
        "    loss, acc = train_step(model, data, adj_matrix, loss_fn, optimizer)\n",
        "\n",
        "    if (acc <= prev_acc):\n",
        "      cnt += 1\n",
        "    else:\n",
        "      cnt = 0\n",
        "    \n",
        "    prev_acc = acc\n",
        "\n",
        "    train_losses.append(loss.cpu().detach().numpy())\n",
        "    val_accuracies.append(acc)\n",
        "  \n",
        "  print(val_accuracies[-1])\n",
        "\n",
        "  return model, train_losses"
      ],
      "metadata": {
        "id": "iSuPdBXvdJV7"
      },
      "execution_count": 7,
      "outputs": []
    },
    {
      "cell_type": "code",
      "source": [
        "def evaluate(\n",
        "    model,\n",
        "    data,\n",
        "    mask\n",
        "):\n",
        "    adj_matrix = data.edge_index\n",
        "\n",
        "    y = model(data.x, adj_matrix)[mask]\n",
        "    y = torch.argmax(y, dim=1)\n",
        "\n",
        "    accuracy = torch.sum(torch.eq(y, data.y[mask])) / y.shape[0]\n",
        "\n",
        "    return accuracy"
      ],
      "metadata": {
        "id": "Vimxsh4OdLPJ"
      },
      "execution_count": 8,
      "outputs": []
    },
    {
      "cell_type": "markdown",
      "source": [
        "#### Parameters"
      ],
      "metadata": {
        "id": "V4AUlh8x8SFq"
      }
    },
    {
      "cell_type": "code",
      "source": [
        "training_params = {\n",
        "    \"lr\": 0.001,  # learning rate\n",
        "    \"weight_decay\": 0.005,  # weight_decay\n",
        "    \"epochs\": 400,  # number of total training epochs\n",
        "    \"hid_dim\": 64, # size of hidden features\n",
        "    \"n_layers\": None, # number of layers\n",
        "    \"model_name\": \"GAT\",\n",
        "    \"dropout\": 0, # attention dropout rate\n",
        "    \"dropedge\": False,\n",
        "    \"dropedge_rate\": 0\n",
        "}"
      ],
      "metadata": {
        "id": "qTfq11n6dXaP"
      },
      "execution_count": 9,
      "outputs": []
    },
    {
      "cell_type": "code",
      "source": [
        "torch.manual_seed(121) # set seed"
      ],
      "metadata": {
        "colab": {
          "base_uri": "https://localhost:8080/"
        },
        "id": "SOa3N5G4dbk5",
        "outputId": "78578479-32f4-4c67-f089-914c9e39ecb2"
      },
      "execution_count": 10,
      "outputs": [
        {
          "output_type": "execute_result",
          "data": {
            "text/plain": [
              "<torch._C.Generator at 0x7f0143286d50>"
            ]
          },
          "metadata": {},
          "execution_count": 10
        }
      ]
    },
    {
      "cell_type": "code",
      "source": [
        "training_params[\"n_layers\"] = 4\n",
        "model_4_layer, train_losses_4 = train(training_params)"
      ],
      "metadata": {
        "colab": {
          "base_uri": "https://localhost:8080/"
        },
        "id": "9WEy-anzddan",
        "outputId": "f6f6ef94-b398-4c19-cadc-312d1bcd1101"
      },
      "execution_count": 11,
      "outputs": [
        {
          "output_type": "stream",
          "name": "stdout",
          "text": [
            "tensor(0.7180, device='cuda:0')\n"
          ]
        }
      ]
    },
    {
      "cell_type": "code",
      "source": [
        "training_params[\"n_layers\"] = 8\n",
        "model_8_layer, train_losses_8 = train(training_params)"
      ],
      "metadata": {
        "colab": {
          "base_uri": "https://localhost:8080/"
        },
        "id": "3DQXpIpxebXP",
        "outputId": "9825a02d-b8bf-4bf9-b440-452ba7aa4196"
      },
      "execution_count": 12,
      "outputs": [
        {
          "output_type": "stream",
          "name": "stdout",
          "text": [
            "tensor(0.7460, device='cuda:0')\n"
          ]
        }
      ]
    },
    {
      "cell_type": "code",
      "source": [
        "training_params[\"n_layers\"] = 12\n",
        "model_12_layer, train_losses_12 = train(training_params)"
      ],
      "metadata": {
        "id": "tJ4kjYIleeJW",
        "colab": {
          "base_uri": "https://localhost:8080/"
        },
        "outputId": "84430f1f-fd2d-4bcc-e6b2-55dc3bef3340"
      },
      "execution_count": 13,
      "outputs": [
        {
          "output_type": "stream",
          "name": "stdout",
          "text": [
            "tensor(0.7480, device='cuda:0')\n"
          ]
        }
      ]
    },
    {
      "cell_type": "code",
      "source": [
        "training_params[\"n_layers\"] = 16\n",
        "model_16_layer, train_losses_16 = train(training_params)"
      ],
      "metadata": {
        "id": "nAhBIR6nef9o",
        "colab": {
          "base_uri": "https://localhost:8080/"
        },
        "outputId": "ed5aa0df-0559-48af-aa9e-fc6c9a9e81c3"
      },
      "execution_count": 14,
      "outputs": [
        {
          "output_type": "stream",
          "name": "stdout",
          "text": [
            "tensor(0.6720, device='cuda:0')\n"
          ]
        }
      ]
    },
    {
      "cell_type": "markdown",
      "source": [
        "### B. Visualisation"
      ],
      "metadata": {
        "id": "Bh1dEghZemSF"
      }
    },
    {
      "cell_type": "markdown",
      "source": [
        "#### t-SNE"
      ],
      "metadata": {
        "id": "fT6KUXcs3Q3_"
      }
    },
    {
      "cell_type": "code",
      "source": [
        "import pandas as pd\n",
        "import numpy as np\n",
        "import warnings\n",
        "import matplotlib.pyplot as plt\n",
        "\n",
        "from sklearn.manifold import TSNE\n",
        "warnings.simplefilter(action='ignore', category=FutureWarning)"
      ],
      "metadata": {
        "id": "QLKC3PATerb8"
      },
      "execution_count": 15,
      "outputs": []
    },
    {
      "cell_type": "code",
      "source": [
        "def dimension_reduction(model: nn.Module) -> pd.DataFrame:\n",
        "  \"\"\"\n",
        "    Args:\n",
        "      model: model object for generating features\n",
        "    \n",
        "    Return:\n",
        "      pd.DataFrame: A data frame that has 'dimension 1', 'dimension 2', and 'labels' as a column\n",
        "  \"\"\"\n",
        "\n",
        "  data = dataset.data\n",
        "\n",
        "  X = model.generate_node_embeddings(data.x, data.edge_index)[data.val_mask]\n",
        "  X = X.cpu().detach().numpy()\n",
        "  y = data.y[data.val_mask].cpu().detach().numpy().reshape((X.shape[0], 1))\n",
        "  X_embedded = TSNE(n_components=2, learning_rate='auto',\n",
        "                      init='random', perplexity=10).fit_transform(X)\n",
        "  X_embedded = np.concatenate([X_embedded, y], axis=1)\n",
        "  \n",
        "  df = pd.DataFrame(X_embedded, columns = ['dimension 1', 'dimension 2', 'labels'])\n",
        "\n",
        "  return df"
      ],
      "metadata": {
        "id": "nRSxet-AeSwB"
      },
      "execution_count": 16,
      "outputs": []
    },
    {
      "cell_type": "code",
      "source": [
        "feature_dict = {\n",
        "    \"4_layer\": dimension_reduction(model_4_layer),\n",
        "    \"8_layer\": dimension_reduction(model_8_layer),\n",
        "    \"12_layer\": dimension_reduction(model_12_layer),\n",
        "    \"16_layer\": dimension_reduction(model_16_layer)\n",
        "}"
      ],
      "metadata": {
        "id": "RTxKd4EyevRJ"
      },
      "execution_count": 17,
      "outputs": []
    },
    {
      "cell_type": "code",
      "source": [
        "def visualise(feature_dict: typing.Dict) -> None:\n",
        "    fig, ax = plt.subplots(1, 4, sharey=True, sharex=True, figsize=(16,4))\n",
        "\n",
        "    i = 0\n",
        "    for k in feature_dict.keys():\n",
        "      df = feature_dict[k]\n",
        "      ax[i].scatter(df[['dimension 1']], df[['dimension 2']], c=df['labels'].tolist(), s=5)\n",
        "      i += 1"
      ],
      "metadata": {
        "id": "VvHsOKJEeykA"
      },
      "execution_count": 18,
      "outputs": []
    },
    {
      "cell_type": "code",
      "source": [
        "visualise(feature_dict)"
      ],
      "metadata": {
        "colab": {
          "base_uri": "https://localhost:8080/",
          "height": 265
        },
        "id": "jrapaA9Ae8Cg",
        "outputId": "bcb4149f-f5a9-422e-9924-d074c78eb222"
      },
      "execution_count": 19,
      "outputs": [
        {
          "output_type": "display_data",
          "data": {
            "text/plain": [
              "<Figure size 1152x288 with 4 Axes>"
            ],
            "image/png": "[encoded data removed]"
          },
          "metadata": {
            "needs_background": "light"
          }
        }
      ]
    },
    {
      "cell_type": "code",
      "source": [
        "visualise(feature_dict)"
      ],
      "metadata": {
        "id": "WBbPZ7H1e-PA",
        "colab": {
          "base_uri": "https://localhost:8080/",
          "height": 265
        },
        "outputId": "14d041c9-b52f-42ca-bdc9-f9337336b0d8"
      },
      "execution_count": 20,
      "outputs": [
        {
          "output_type": "display_data",
          "data": {
            "text/plain": [
              "<Figure size 1152x288 with 4 Axes>"
            ],
            "image/png": "[encoded data removed]"
          },
          "metadata": {
            "needs_background": "light"
          }
        }
      ]
    },
    {
      "cell_type": "markdown",
      "source": [
        "#### Average embedding distance"
      ],
      "metadata": {
        "id": "ikBU_3b03NHr"
      }
    },
    {
      "cell_type": "code",
      "source": [
        "def distance(model: nn.Module):\n",
        "  data = dataset.data\n",
        "  X = model.generate_node_embeddings(data.x, data.edge_index)[data.val_mask]\n",
        "  X = X.cpu().detach().numpy()\n",
        "\n",
        "  distances = np.linalg.norm(X[:, np.newaxis] - X, axis=-1)\n",
        "\n",
        "  np.fill_diagonal(distances, np.nan)\n",
        "\n",
        "\n",
        "  average_distance = np.nanmean(distances)\n",
        "  return average_distance"
      ],
      "metadata": {
        "id": "aFisCRXZKlNH"
      },
      "execution_count": 21,
      "outputs": []
    },
    {
      "cell_type": "code",
      "source": [
        "n_layer = [4, 8, 12, 16]\n",
        "n_dist = [distance(model_4_layer),\n",
        "          distance(model_8_layer),\n",
        "          distance(model_12_layer),\n",
        "          distance(model_16_layer)]"
      ],
      "metadata": {
        "id": "zFoAQ098mvcJ"
      },
      "execution_count": 22,
      "outputs": []
    },
    {
      "cell_type": "code",
      "source": [
        "n_dist"
      ],
      "metadata": {
        "id": "_8ITuUAYmxWN",
        "colab": {
          "base_uri": "https://localhost:8080/"
        },
        "outputId": "b3dd49c9-3dbc-47a9-81b9-f154204bf03f"
      },
      "execution_count": 23,
      "outputs": [
        {
          "output_type": "execute_result",
          "data": {
            "text/plain": [
              "[11.811848, 19.876394, 22.228037, 23.362934]"
            ]
          },
          "metadata": {},
          "execution_count": 23
        }
      ]
    },
    {
      "cell_type": "code",
      "source": [
        "plt.plot(n_layer, n_dist)"
      ],
      "metadata": {
        "id": "9fJLwVWrpd0A",
        "colab": {
          "base_uri": "https://localhost:8080/",
          "height": 283
        },
        "outputId": "4739efa6-e9a6-44c4-808c-91de50c0e1c3"
      },
      "execution_count": 24,
      "outputs": [
        {
          "output_type": "execute_result",
          "data": {
            "text/plain": [
              "[<matplotlib.lines.Line2D at 0x7f00dbf3d130>]"
            ]
          },
          "metadata": {},
          "execution_count": 24
        },
        {
          "output_type": "display_data",
          "data": {
            "text/plain": [
              "<Figure size 432x288 with 1 Axes>"
            ],
            "image/png": "[encoded data removed]"
          },
          "metadata": {
            "needs_background": "light"
          }
        }
      ]
    },
    {
      "cell_type": "code",
      "source": [
        "n_dist2 = [distance(model_4_layer),\n",
        "          distance(model_8_layer),\n",
        "          distance(model_12_layer),\n",
        "          distance(model_16_layer)]"
      ],
      "metadata": {
        "id": "4Scr2PUZeYlM"
      },
      "execution_count": 25,
      "outputs": []
    },
    {
      "cell_type": "code",
      "source": [
        "n_dist2"
      ],
      "metadata": {
        "colab": {
          "base_uri": "https://localhost:8080/"
        },
        "id": "k2MRnqljevQt",
        "outputId": "28289f85-7b5d-4cb7-a089-19498c457496"
      },
      "execution_count": 26,
      "outputs": [
        {
          "output_type": "execute_result",
          "data": {
            "text/plain": [
              "[11.811848, 19.876394, 22.228037, 23.362932]"
            ]
          },
          "metadata": {},
          "execution_count": 26
        }
      ]
    },
    {
      "cell_type": "code",
      "source": [
        "n_dist3 = [distance(model_4_layer),\n",
        "          distance(model_8_layer),\n",
        "          distance(model_12_layer),\n",
        "          distance(model_16_layer)]"
      ],
      "metadata": {
        "id": "FTRKmrYMe3_t"
      },
      "execution_count": 27,
      "outputs": []
    },
    {
      "cell_type": "code",
      "source": [
        "n_dist3"
      ],
      "metadata": {
        "colab": {
          "base_uri": "https://localhost:8080/"
        },
        "id": "8mwjN7OEfK8k",
        "outputId": "0b4bd6c5-a6db-43de-90aa-32f14ddae278"
      },
      "execution_count": 28,
      "outputs": [
        {
          "output_type": "execute_result",
          "data": {
            "text/plain": [
              "[11.811848, 19.876394, 22.228037, 23.362934]"
            ]
          },
          "metadata": {},
          "execution_count": 28
        }
      ]
    },
    {
      "cell_type": "code",
      "source": [
        "plt.plot(n_layer, n_dist2, label=\"attention dropout\")\n",
        "plt.plot(n_layer, n_dist3, label=\"dropedge\")\n",
        "plt.xlabel(\"Number of layers\")\n",
        "plt.ylabel(\"Distance\")\n",
        "plt.legend()\n",
        "plt.title('Average embedding distance')"
      ],
      "metadata": {
        "colab": {
          "base_uri": "https://localhost:8080/",
          "height": 313
        },
        "id": "PvhwawCffkSM",
        "outputId": "3dc21ff1-cf1c-4745-e273-9f663f991849"
      },
      "execution_count": 29,
      "outputs": [
        {
          "output_type": "execute_result",
          "data": {
            "text/plain": [
              "Text(0.5, 1.0, 'Average embedding distance')"
            ]
          },
          "metadata": {},
          "execution_count": 29
        },
        {
          "output_type": "display_data",
          "data": {
            "text/plain": [
              "<Figure size 432x288 with 1 Axes>"
            ],
            "image/png": "[encoded data removed]"
          },
          "metadata": {
            "needs_background": "light"
          }
        }
      ]
    },
    {
      "cell_type": "code",
      "source": [],
      "metadata": {
        "id": "eABrTChJgEsj"
      },
      "execution_count": null,
      "outputs": []
    }
  ]
}